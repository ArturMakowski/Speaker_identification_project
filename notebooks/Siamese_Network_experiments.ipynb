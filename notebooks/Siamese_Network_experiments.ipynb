{
  "cells": [
    {
      "cell_type": "code",
      "execution_count": 5,
      "metadata": {
        "colab": {
          "base_uri": "https://localhost:8080/"
        },
        "id": "ixEPcQ5A3HVA",
        "outputId": "1dcbc52c-55f2-4c95-d6dc-466a1a8847e6"
      },
      "outputs": [],
      "source": [
        "import torchaudio\n",
        "import numpy as np\n",
        "train_dataset = torchaudio.datasets.VoxCeleb1Identification('/mnt/d/VoxCeleb1Identification/data', subset='train', download=False)\n",
        "test_dataset = torchaudio.datasets.VoxCeleb1Identification('/mnt/d/VoxCeleb1Identification/data', subset='test', download=False)"
      ]
    },
    {
      "cell_type": "code",
      "execution_count": 6,
      "metadata": {
        "id": "e0tjl6xRcbGg"
      },
      "outputs": [],
      "source": [
        "\n",
        "\n",
        "# present_train_audio_files = []\n",
        "# missing_train_audio_files = []\n",
        "# sub_train_len = len(train_dataset) #4000\n",
        "# for i in range(sub_train_len):\n",
        "#   try:\n",
        "#     train_dataset[i][2]\n",
        "#     present_train_audio_files.append(i)\n",
        "#   except:\n",
        "#     missing_train_audio_files.append(i)\n",
        "\n",
        "# present_test_audio_files = []\n",
        "# missing_test_audio_files = []\n",
        "# sub_test_len = len(test_dataset) #200\n",
        "# for i in range(sub_test_len):\n",
        "#   try:\n",
        "#     test_dataset[i][2]\n",
        "#     present_test_audio_files.append(i)\n",
        "#   except:\n",
        "#     missing_test_audio_files.append(i) "
      ]
    },
    {
      "cell_type": "code",
      "execution_count": 7,
      "metadata": {},
      "outputs": [],
      "source": [
        "import json\n",
        "# json.dump(present_train_audio_files, open(\"present_train_audio_files.json\", 'w'))\n",
        "# json.dump(present_test_audio_files, open(\"present_test_audio_files.json\", 'w'))\n",
        "present_train_audio_files = json.load(open(\"present_train_audio_files.json\", 'r'))\n",
        "present_test_audio_files = json.load(open(\"present_test_audio_files.json\", 'r'))"
      ]
    },
    {
      "attachments": {},
      "cell_type": "markdown",
      "metadata": {
        "id": "xan6PitN3j4n"
      },
      "source": [
        "There are 4361 missing files in train dataset and 279 missing files in test dataset. Lets remove those samples."
      ]
    },
    {
      "cell_type": "code",
      "execution_count": 8,
      "metadata": {
        "colab": {
          "base_uri": "https://localhost:8080/"
        },
        "id": "2-q9_WxD3gkm",
        "outputId": "0decd87a-a679-483e-e8f3-bcd508df2c4b"
      },
      "outputs": [],
      "source": [
        "from torch.utils.data import Subset\n",
        "from torch.utils.data import Dataset\n",
        "import torch\n",
        "\n",
        "class VoxCeleb1IdentificationUnified(Dataset):\n",
        "    \n",
        "    def __init__(self, voxceleb1_dataset, present_audio_files = []):\n",
        "        self.voxceleb1_dataset = voxceleb1_dataset\n",
        "        self.voxceleb1_dataset = Subset(self.voxceleb1_dataset, present_audio_files)\n",
        "        \n",
        "        self.num_samples_per_clip = 80000   \n",
        "        self.mel_spectrogram_transformation = torchaudio.transforms.MelSpectrogram(\n",
        "            sample_rate=16000,\n",
        "            n_fft=1024,\n",
        "            hop_length=512,\n",
        "            n_mels=64)\n",
        "\n",
        "    def __getitem__(self, idx):\n",
        "        waveform, _, target, _ = self.voxceleb1_dataset[idx]\n",
        "        waveform = self._right_zero_pad(self._cut_if_necessary(waveform))\n",
        "        mel_spec = self.mel_spectrogram_transformation(waveform)\n",
        "        return mel_spec, target\n",
        "    \n",
        "    def __len__(self):\n",
        "        return len(self.voxceleb1_dataset)\n",
        "    \n",
        "    def _right_zero_pad(self, signal):\n",
        "      length_signal = signal.shape[1]\n",
        "      if length_signal < self.num_samples_per_clip:\n",
        "          num_missing_samples = self.num_samples_per_clip - length_signal\n",
        "          signal = torch.nn.functional.pad(signal, (0, num_missing_samples))\n",
        "      return signal\n",
        "    \n",
        "    def _cut_if_necessary(self, signal):\n",
        "      if signal.shape[1] > self.num_samples_per_clip:\n",
        "          signal = signal[:, :self.num_samples_per_clip]\n",
        "      return signal\n",
        "  \n",
        "train_subset = VoxCeleb1IdentificationUnified(train_dataset, present_train_audio_files[:1000])\n",
        "test_subset = VoxCeleb1IdentificationUnified(train_dataset, present_test_audio_files[:100])"
      ]
    },
    {
      "cell_type": "code",
      "execution_count": 9,
      "metadata": {},
      "outputs": [
        {
          "name": "stdout",
          "output_type": "stream",
          "text": [
            "99\n",
            "train: (tensor([[[6.0013e+00, 8.2566e-01, 1.0710e+00,  ..., 0.0000e+00,\n",
            "          0.0000e+00, 0.0000e+00],\n",
            "         [4.5570e+00, 5.8077e-01, 5.7693e-01,  ..., 0.0000e+00,\n",
            "          0.0000e+00, 0.0000e+00],\n",
            "         [1.6105e+01, 2.3266e+00, 2.9071e-01,  ..., 0.0000e+00,\n",
            "          0.0000e+00, 0.0000e+00],\n",
            "         ...,\n",
            "         [9.4109e-04, 1.6834e-04, 1.2673e-04,  ..., 0.0000e+00,\n",
            "          0.0000e+00, 0.0000e+00],\n",
            "         [9.8099e-04, 1.5889e-04, 1.3632e-04,  ..., 0.0000e+00,\n",
            "          0.0000e+00, 0.0000e+00],\n",
            "         [7.0682e-04, 8.5380e-05, 7.2833e-05,  ..., 0.0000e+00,\n",
            "          0.0000e+00, 0.0000e+00]]]), 2)\n",
            "test: (tensor([[[6.0013e+00, 8.2566e-01, 1.0710e+00,  ..., 0.0000e+00,\n",
            "          0.0000e+00, 0.0000e+00],\n",
            "         [4.5570e+00, 5.8077e-01, 5.7693e-01,  ..., 0.0000e+00,\n",
            "          0.0000e+00, 0.0000e+00],\n",
            "         [1.6105e+01, 2.3266e+00, 2.9071e-01,  ..., 0.0000e+00,\n",
            "          0.0000e+00, 0.0000e+00],\n",
            "         ...,\n",
            "         [9.4109e-04, 1.6834e-04, 1.2673e-04,  ..., 0.0000e+00,\n",
            "          0.0000e+00, 0.0000e+00],\n",
            "         [9.8099e-04, 1.5889e-04, 1.3632e-04,  ..., 0.0000e+00,\n",
            "          0.0000e+00, 0.0000e+00],\n",
            "         [7.0682e-04, 8.5380e-05, 7.2833e-05,  ..., 0.0000e+00,\n",
            "          0.0000e+00, 0.0000e+00]]]), 2)\n"
          ]
        }
      ],
      "source": [
        "idx = np.random.randint(0, 100)\n",
        "print(idx)\n",
        "print(f'train: {train_subset[idx]}')\n",
        "print(f'test: {test_subset[idx]}')"
      ]
    },
    {
      "cell_type": "code",
      "execution_count": 10,
      "metadata": {
        "colab": {
          "base_uri": "https://localhost:8080/"
        },
        "id": "HXgQ3YmAZsrs",
        "outputId": "67c87e10-e4f3-4a73-e250-f9497c59e767"
      },
      "outputs": [
        {
          "name": "stdout",
          "output_type": "stream",
          "text": [
            "Length of train dataset: 1000\n",
            "(tensor([[[1.3433, 0.0434, 0.2335,  ..., 0.0924, 0.2549, 1.7636],\n",
            "         [1.5431, 0.1776, 2.0001,  ..., 0.1316, 0.2775, 1.9115],\n",
            "         [1.8138, 0.2381, 1.3203,  ..., 0.5002, 0.4647, 2.3463],\n",
            "         ...,\n",
            "         [0.1240, 0.5055, 0.1610,  ..., 0.6842, 0.5754, 0.7417],\n",
            "         [0.1975, 0.3604, 0.1840,  ..., 0.4042, 0.5048, 0.4415],\n",
            "         [0.0902, 0.3216, 0.0680,  ..., 0.0362, 0.0680, 0.0960]]]), 1)\n",
            " \n",
            "Length of test dataset: 100\n",
            "(tensor([[[1.3433, 0.0434, 0.2335,  ..., 0.0924, 0.2549, 1.7636],\n",
            "         [1.5431, 0.1776, 2.0001,  ..., 0.1316, 0.2775, 1.9115],\n",
            "         [1.8138, 0.2381, 1.3203,  ..., 0.5002, 0.4647, 2.3463],\n",
            "         ...,\n",
            "         [0.1240, 0.5055, 0.1610,  ..., 0.6842, 0.5754, 0.7417],\n",
            "         [0.1975, 0.3604, 0.1840,  ..., 0.4042, 0.5048, 0.4415],\n",
            "         [0.0902, 0.3216, 0.0680,  ..., 0.0362, 0.0680, 0.0960]]]), 1)\n"
          ]
        },
        {
          "name": "stdout",
          "output_type": "stream",
          "text": [
            " \n",
            "There are 2 unique speakers in first 100 samples of test set\n",
            " \n",
            "There are 12 unique speakers in first 1000 samples of train set\n"
          ]
        }
      ],
      "source": [
        "print(f'Length of train dataset: {len(train_subset)}')\n",
        "print(train_subset[0])\n",
        "print(' ')\n",
        "print(f'Length of test dataset: {len(test_subset)}')\n",
        "print(test_subset[0])\n",
        "speakers_test = []\n",
        "speakers_train = []\n",
        "# 1754\n",
        "for i in range(len(test_subset)):\n",
        "  speakers_test.append(test_subset[i][1])\n",
        "print(' ')\n",
        "print(f'There are {len(set(speakers_test))} unique speakers in first {len(test_subset)} samples of test set')\n",
        "\n",
        "for i in range(len(train_subset)):\n",
        "  speakers_train.append(train_subset[i][1])\n",
        "print(' ')\n",
        "print(f'There are {len(set(speakers_train))} unique speakers in first {len(train_subset)} samples of train set')"
      ]
    },
    {
      "cell_type": "code",
      "execution_count": 11,
      "metadata": {
        "id": "gZ-0H6ey3rWK"
      },
      "outputs": [],
      "source": [
        "from torch.optim import lr_scheduler\n",
        "import torch.optim as optim\n",
        "from torch.autograd import Variable\n",
        "\n",
        "import numpy as np\n",
        "cuda = torch.cuda.is_available()\n",
        "\n",
        "%matplotlib inline\n",
        "import matplotlib\n",
        "import matplotlib.pyplot as plt\n",
        "\n",
        "test_speakers_classes = [str(i) for i in range(len(set(speakers_test)))]"
      ]
    },
    {
      "attachments": {},
      "cell_type": "markdown",
      "metadata": {
        "id": "uU31giPa5L33"
      },
      "source": [
        "# Prepare dataset classes"
      ]
    },
    {
      "cell_type": "code",
      "execution_count": 16,
      "metadata": {
        "id": "zXo1wTqW4Py2"
      },
      "outputs": [],
      "source": [
        "import numpy as np\n",
        "from PIL import Image\n",
        "\n",
        "from torch.utils.data.sampler import BatchSampler\n",
        "\n",
        "\n",
        "class TripletVoxCeleb1ID(Dataset):\n",
        "    \"\"\"\n",
        "    Train: For each sample (anchor) randomly chooses a positive and negative samples\n",
        "    Test: Creates fixed triplets for testing\n",
        "    \"\"\"\n",
        "\n",
        "    def __init__(self, voxceleb1_dataset, train=True):\n",
        "        self.voxceleb1_dataset = voxceleb1_dataset\n",
        "        self.train = train\n",
        "        self.mel_spectrogram_transformation = torchaudio.transforms.MelSpectrogram(\n",
        "            sample_rate=16000,\n",
        "            n_fft=1024,\n",
        "            hop_length=512,\n",
        "            n_mels=64)\n",
        "        self.num_samples_per_clip = 80000 # 5 sec\n",
        "\n",
        "        if self.train:\n",
        "            self.train_labels = torch.tensor([self.voxceleb1_dataset[i][1]\n",
        "                                              for i in range(len(self.voxceleb1_dataset))])\n",
        "            \n",
        "            self.labels_set = set(self.train_labels.numpy())\n",
        "            self.label_to_indices = {label: np.where(self.train_labels.numpy() == label)[0]\n",
        "                                     for label in self.labels_set}\n",
        "\n",
        "        else:\n",
        "            self.test_labels = torch.tensor([self.voxceleb1_dataset[i][1] \n",
        "                                              for i in range(len(self.voxceleb1_dataset))])\n",
        "        \n",
        "            # generate fixed triplets for testing\n",
        "            self.labels_set = set(self.test_labels.numpy())\n",
        "            self.label_to_indices = {label: np.where(self.test_labels.numpy() == label)[0]\n",
        "                                     for label in self.labels_set}\n",
        "\n",
        "            random_state = np.random.RandomState(29)\n",
        "\n",
        "            triplets = [[i,\n",
        "                         random_state.choice(self.label_to_indices[self.test_labels[i].item()]),\n",
        "                         random_state.choice(self.label_to_indices[\n",
        "                                                 np.random.choice(\n",
        "                                                     list(self.labels_set - set([self.test_labels[i].item()]))\n",
        "                                                 )\n",
        "                                             ])\n",
        "                         ]\n",
        "                        for i in range(len(self.test_labels))]\n",
        "            self.test_triplets = triplets\n",
        "\n",
        "    def __getitem__(self, index):\n",
        "        if self.train:\n",
        "            # audio1, label1 = self._right_zero_pad(self._cut_if_necessary(self.voxceleb1_dataset[index][0])), self.train_labels[index].item()\n",
        "            audio1, label1 = self.voxceleb1_dataset[index][0], self.train_labels[index].item()\n",
        "            positive_index = index\n",
        "            while positive_index == index:\n",
        "                positive_index = np.random.choice(self.label_to_indices[label1])\n",
        "                #! 99% that for one particular speaker there is just 1 recording \n",
        "                #TODO Create histogram of number of samples assigned to one speaker\n",
        "            negative_label = np.random.choice(list(self.labels_set - set([label1])))\n",
        "            negative_index = np.random.choice(self.label_to_indices[negative_label])\n",
        "            # audio2 = self._right_zero_pad(self._cut_if_necessary(self.voxceleb1_dataset[positive_index][0]))\n",
        "            # audio3 = self._right_zero_pad(self._cut_if_necessary(self.voxceleb1_dataset[negative_index][0]))\n",
        "            audio2 = self.voxceleb1_dataset[positive_index][0]\n",
        "            audio3 = self.voxceleb1_dataset[negative_index][0]\n",
        "        else:\n",
        "            # audio1 = self._right_zero_pad(self._cut_if_necessary(self.voxceleb1_dataset[self.test_triplets[index][0]][0]))\n",
        "            # audio2 = self._right_zero_pad(self._cut_if_necessary(self.voxceleb1_dataset[self.test_triplets[index][1]][0]))\n",
        "            # audio3 = self._right_zero_pad(self._cut_if_necessary(self.voxceleb1_dataset[self.test_triplets[index][2]][0]))\n",
        "            audio1 = self.voxceleb1_dataset[self.test_triplets[index][0]][0]\n",
        "            audio2 = self.voxceleb1_dataset[self.test_triplets[index][1]][0]\n",
        "            audio3 = self.voxceleb1_dataset[self.test_triplets[index][2]][0]\n",
        "                                          \n",
        "        # spec1 = self.mel_spectrogram_transformation(audio1)\n",
        "        # spec2 = self.mel_spectrogram_transformation(audio2)\n",
        "        # spec3 = self.mel_spectrogram_transformation(audio3)   \n",
        "        spec1 = audio1\n",
        "        spec2 = audio2\n",
        "        spec3 = audio3 \n",
        "\n",
        "        return (spec1, spec2, spec3), []\n",
        "    \n",
        "    # def _right_zero_pad(self, signal):\n",
        "    #   length_signal = signal.shape[1]\n",
        "    #   if length_signal < self.num_samples_per_clip:\n",
        "    #       num_missing_samples = self.num_samples_per_clip - length_signal\n",
        "    #       signal = torch.nn.functional.pad(signal, (0, num_missing_samples))\n",
        "    #   return signal\n",
        "    \n",
        "    # def _cut_if_necessary(self, signal):\n",
        "    #   if signal.shape[1] > self.num_samples_per_clip:\n",
        "    #       signal = signal[:, :self.num_samples_per_clip]\n",
        "    #   return signal\n",
        "\n",
        "    def __len__(self):\n",
        "        return len(self.voxceleb1_dataset)"
      ]
    },
    {
      "cell_type": "code",
      "execution_count": 17,
      "metadata": {
        "colab": {
          "base_uri": "https://localhost:8080/"
        },
        "id": "jC0KR4BCJzwi",
        "outputId": "63a0d051-67cd-46c0-865f-7462b3aa151d"
      },
      "outputs": [
        {
          "name": "stdout",
          "output_type": "stream",
          "text": [
            "{1: array([ 0,  1,  2,  3,  4,  5,  6,  7,  8,  9, 10, 11, 12, 13, 14, 15, 16,\n",
            "       17, 18, 19, 20, 21, 22, 23, 24, 25, 26, 27, 28, 29, 30, 31, 32, 33,\n",
            "       34, 35, 36, 37, 38, 39, 40, 41, 42, 43, 44, 45, 46, 47, 48, 49, 50,\n",
            "       51, 52, 53, 54, 55, 56]), 2: array([ 57,  58,  59,  60,  61,  62,  63,  64,  65,  66,  67,  68,  69,\n",
            "        70,  71,  72,  73,  74,  75,  76,  77,  78,  79,  80,  81,  82,\n",
            "        83,  84,  85,  86,  87,  88,  89,  90,  91,  92,  93,  94,  95,\n",
            "        96,  97,  98,  99, 100, 101, 102, 103, 104, 105, 106, 107, 108,\n",
            "       109, 110, 111, 112, 113, 114, 115, 116, 117, 118, 119, 120, 121,\n",
            "       122, 123, 124, 125, 126, 127, 128, 129, 130, 131, 132, 133, 134,\n",
            "       135, 136, 137, 138, 139, 140, 141, 142, 143, 144, 145, 146, 147,\n",
            "       148, 149, 150, 151, 152, 153, 154, 155, 156, 157, 158, 159, 160,\n",
            "       161, 162, 163, 164, 165, 166, 167, 168, 169, 170, 171, 172, 173,\n",
            "       174]), 3: array([175, 176, 177, 178, 179, 180, 181, 182, 183, 184, 185, 186, 187,\n",
            "       188, 189, 190, 191, 192, 193, 194, 195, 196, 197, 198, 199, 200,\n",
            "       201, 202, 203, 204, 205, 206, 207, 208, 209, 210, 211, 212, 213,\n",
            "       214, 215, 216, 217, 218, 219, 220, 221, 222, 223, 224, 225, 226,\n",
            "       227, 228, 229, 230, 231, 232, 233, 234, 235, 236, 237, 238, 239,\n",
            "       240, 241, 242, 243, 244, 245, 246, 247, 248, 249, 250, 251, 252,\n",
            "       253, 254, 255, 256, 257, 258, 259, 260, 261, 262, 263, 264, 265,\n",
            "       266, 267, 268, 269, 270, 271, 272, 273, 274, 275, 276, 277, 278,\n",
            "       279, 280, 281, 282, 283, 284, 285, 286, 287, 288, 289, 290, 291,\n",
            "       292, 293, 294, 295, 296, 297, 298, 299, 300, 301, 302, 303, 304,\n",
            "       305, 306, 307, 308, 309, 310, 311, 312, 313, 314, 315, 316, 317,\n",
            "       318, 319, 320, 321, 322, 323, 324, 325, 326, 327, 328, 329, 330,\n",
            "       331, 332, 333, 334, 335]), 4: array([336, 337, 338, 339, 340, 341, 342, 343, 344, 345, 346, 347, 348,\n",
            "       349, 350, 351, 352, 353, 354, 355, 356, 357, 358, 359, 360, 361,\n",
            "       362, 363, 364, 365, 366, 367, 368, 369, 370, 371, 372, 373, 374,\n",
            "       375, 376, 377, 378, 379, 380, 381, 382, 383, 384, 385, 386, 387,\n",
            "       388, 389, 390, 391, 392, 393, 394, 395, 396, 397, 398, 399, 400,\n",
            "       401, 402, 403, 404, 405, 406, 407, 408, 409, 410, 411, 412, 413,\n",
            "       414, 415, 416, 417, 418, 419, 420, 421, 422, 423, 424, 425, 426,\n",
            "       427, 428, 429, 430]), 5: array([431, 432, 433, 434, 435, 436, 437, 438, 439, 440, 441, 442, 443,\n",
            "       444, 445, 446, 447, 448, 449, 450, 451, 452, 453, 454, 455, 456,\n",
            "       457, 458, 459, 460, 461, 462, 463, 464, 465, 466, 467, 468, 469,\n",
            "       470, 471, 472, 473, 474, 475, 476, 477, 478]), 6: array([479, 480, 481, 482, 483, 484, 485, 486, 487, 488, 489, 490, 491,\n",
            "       492, 493, 494, 495, 496, 497, 498, 499, 500, 501, 502, 503, 504,\n",
            "       505, 506, 507, 508, 509, 510, 511, 512, 513, 514, 515, 516, 517,\n",
            "       518, 519, 520, 521, 522, 523, 524, 525, 526, 527, 528, 529, 530,\n",
            "       531, 532, 533, 534, 535, 536, 537, 538, 539, 540, 541, 542, 543,\n",
            "       544, 545, 546, 547, 548, 549, 550, 551, 552, 553, 554, 555, 556,\n",
            "       557, 558, 559, 560, 561, 562, 563, 564, 565, 566, 567, 568, 569,\n",
            "       570, 571, 572, 573, 574, 575, 576, 577, 578, 579, 580, 581, 582,\n",
            "       583, 584, 585, 586, 587, 588, 589, 590, 591, 592]), 7: array([593, 594, 595, 596, 597, 598, 599, 600, 601, 602, 603, 604, 605,\n",
            "       606, 607, 608, 609, 610, 611, 612, 613, 614, 615, 616, 617, 618,\n",
            "       619, 620, 621, 622, 623, 624, 625, 626, 627, 628, 629, 630, 631,\n",
            "       632, 633, 634, 635, 636, 637, 638, 639, 640, 641, 642, 643, 644,\n",
            "       645, 646, 647, 648, 649, 650, 651, 652, 653, 654, 655, 656, 657,\n",
            "       658, 659, 660, 661]), 8: array([662, 663, 664, 665, 666, 667, 668, 669, 670, 671, 672, 673, 674,\n",
            "       675, 676, 677, 678, 679, 680, 681, 682, 683, 684, 685, 686, 687,\n",
            "       688, 689, 690, 691, 692, 693, 694, 695, 696, 697, 698, 699, 700,\n",
            "       701, 702, 703, 704, 705, 706, 707, 708, 709, 710, 711, 712, 713,\n",
            "       714, 715, 716, 717, 718, 719, 720, 721, 722, 723, 724, 725, 726,\n",
            "       727, 728, 729, 730, 731, 732, 733, 734, 735, 736, 737, 738, 739,\n",
            "       740, 741, 742, 743, 744, 745, 746, 747, 748, 749, 750, 751, 752,\n",
            "       753, 754, 755, 756, 757]), 9: array([758, 759, 760, 761, 762, 763, 764, 765, 766, 767, 768, 769, 770,\n",
            "       771, 772, 773, 774, 775, 776, 777, 778, 779, 780, 781, 782, 783,\n",
            "       784, 785, 786, 787, 788, 789, 790, 791, 792, 793, 794, 795, 796,\n",
            "       797, 798, 799, 800, 801, 802, 803, 804]), 10: array([805, 806, 807, 808, 809, 810, 811, 812, 813, 814, 815, 816, 817,\n",
            "       818, 819, 820, 821, 822, 823, 824, 825, 826, 827, 828, 829, 830,\n",
            "       831, 832, 833, 834, 835, 836, 837, 838, 839, 840, 841, 842, 843,\n",
            "       844]), 11: array([845, 846, 847, 848, 849, 850, 851, 852, 853, 854, 855, 856, 857,\n",
            "       858, 859, 860, 861, 862, 863, 864, 865, 866, 867, 868, 869, 870,\n",
            "       871, 872, 873, 874, 875, 876, 877, 878, 879, 880, 881, 882, 883,\n",
            "       884, 885, 886, 887, 888, 889, 890, 891, 892, 893, 894, 895, 896,\n",
            "       897, 898, 899, 900, 901, 902, 903, 904, 905, 906, 907, 908, 909,\n",
            "       910, 911, 912, 913, 914, 915, 916, 917, 918, 919, 920, 921, 922,\n",
            "       923, 924, 925, 926, 927, 928, 929, 930, 931, 932, 933, 934, 935,\n",
            "       936, 937, 938, 939, 940, 941, 942, 943, 944, 945, 946, 947, 948,\n",
            "       949, 950, 951, 952, 953]), 12: array([954, 955, 956, 957, 958, 959, 960, 961, 962, 963, 964, 965, 966,\n",
            "       967, 968, 969, 970, 971, 972, 973, 974, 975, 976, 977, 978, 979,\n",
            "       980, 981, 982, 983, 984, 985, 986, 987, 988, 989, 990, 991, 992,\n",
            "       993, 994, 995, 996, 997, 998, 999])}\n",
            "{1: array([ 0,  1,  2,  3,  4,  5,  6,  7,  8,  9, 10, 11, 12, 13, 14, 15, 16,\n",
            "       17, 18, 19, 20, 21, 22, 23, 24, 25, 26, 27, 28, 29, 30, 31, 32, 33,\n",
            "       34, 35, 36, 37, 38, 39, 40, 41, 42, 43, 44, 45, 46, 47, 48, 49, 50,\n",
            "       51, 52, 53, 54, 55, 56]), 2: array([57, 58, 59, 60, 61, 62, 63, 64, 65, 66, 67, 68, 69, 70, 71, 72, 73,\n",
            "       74, 75, 76, 77, 78, 79, 80, 81, 82, 83, 84, 85, 86, 87, 88, 89, 90,\n",
            "       91, 92, 93, 94, 95, 96, 97, 98, 99])}\n"
          ]
        }
      ],
      "source": [
        "triplet_dataset = TripletVoxCeleb1ID(train_subset, train=True)\n",
        "print(triplet_dataset.label_to_indices)\n",
        "triplet_dataset = TripletVoxCeleb1ID(test_subset, train=False)\n",
        "print(triplet_dataset.label_to_indices)"
      ]
    },
    {
      "cell_type": "code",
      "execution_count": 18,
      "metadata": {
        "colab": {
          "base_uri": "https://localhost:8080/"
        },
        "id": "x3kbuSjq8HF0",
        "outputId": "746fa07a-b943-4f3e-dcc1-c7610611da2d"
      },
      "outputs": [
        {
          "data": {
            "text/plain": [
              "torch.Size([1, 64, 157])"
            ]
          },
          "execution_count": 18,
          "metadata": {},
          "output_type": "execute_result"
        }
      ],
      "source": [
        "triplet_dataset[0][0][0].shape"
      ]
    },
    {
      "attachments": {},
      "cell_type": "markdown",
      "metadata": {
        "id": "xcG4ScfR5yK8"
      },
      "source": [
        "# Neural Networks"
      ]
    },
    {
      "cell_type": "code",
      "execution_count": 19,
      "metadata": {
        "id": "JP7kD76Y6De5"
      },
      "outputs": [],
      "source": [
        "import torch.nn as nn\n",
        "import torch.nn.functional as F\n",
        "\n",
        "\n",
        "class EmbeddingNet(nn.Module):\n",
        "    def __init__(self):\n",
        "        super(EmbeddingNet, self).__init__()\n",
        "        self.convnet = nn.Sequential(nn.Conv2d(1, 32, 5), nn.PReLU(),\n",
        "                                     nn.MaxPool2d(2, stride=2),\n",
        "                                     nn.Conv2d(32, 64, 5), nn.PReLU(),\n",
        "                                     nn.MaxPool2d(2, stride=2),\n",
        "                                     nn.Conv2d(64, 128, 5), nn.PReLU(),\n",
        "                                     nn.MaxPool2d(2, stride=2))\n",
        "\n",
        "        self.fc = nn.Sequential(nn.Linear(8192, 128), # 6*4*4x256\n",
        "                                nn.PReLU(),\n",
        "                                nn.Linear(128, 256),\n",
        "                                nn.PReLU(),\n",
        "                                nn.Linear(256, 128)\n",
        "                                )\n",
        "\n",
        "    def forward(self, x):\n",
        "        output = self.convnet(x)\n",
        "        output = output.view(output.size()[0], -1)\n",
        "        output = self.fc(output)\n",
        "        return output\n",
        "\n",
        "    def get_embedding(self, x):\n",
        "        return self.forward(x)\n",
        "\n",
        "class EmbeddingNetL2(EmbeddingNet):\n",
        "    def __init__(self):\n",
        "        super(EmbeddingNetL2, self).__init__()\n",
        "\n",
        "    def forward(self, x):\n",
        "        output = super(EmbeddingNetL2, self).forward(x)\n",
        "        output /= output.pow(2).sum(1, keepdim=True).sqrt()\n",
        "        return output\n",
        "\n",
        "    def get_embedding(self, x):\n",
        "        return self.forward(x)\n",
        "        \n",
        "class SiameseNet(nn.Module):\n",
        "    def __init__(self, embedding_net):\n",
        "        super(SiameseNet, self).__init__()\n",
        "        self.embedding_net = embedding_net\n",
        "\n",
        "    def forward(self, x1, x2):\n",
        "        output1 = self.embedding_net(x1)\n",
        "        output2 = self.embedding_net(x2)\n",
        "        return output1, output2\n",
        "\n",
        "    def get_embedding(self, x):\n",
        "        return self.embedding_net(x)\n",
        "\n",
        "\n",
        "class TripletNet(nn.Module):\n",
        "    def __init__(self, embedding_net):\n",
        "        super(TripletNet, self).__init__()\n",
        "        self.embedding_net = embedding_net\n",
        "\n",
        "    def forward(self, x1, x2, x3):\n",
        "        output1 = self.embedding_net(x1)\n",
        "        output2 = self.embedding_net(x2)\n",
        "        output3 = self.embedding_net(x3)\n",
        "        return output1, output2, output3\n",
        "\n",
        "    def get_embedding(self, x):\n",
        "        return self.embedding_net(x)"
      ]
    },
    {
      "cell_type": "code",
      "execution_count": 20,
      "metadata": {
        "colab": {
          "base_uri": "https://localhost:8080/"
        },
        "id": "4TVp-POlqmZR",
        "outputId": "5d7508b6-4ae3-45fd-8202-f871a926f2e4"
      },
      "outputs": [
        {
          "name": "stdout",
          "output_type": "stream",
          "text": [
            "----------------------------------------------------------------\n",
            "        Layer (type)               Output Shape         Param #\n",
            "================================================================\n",
            "            Conv2d-1          [-1, 32, 60, 153]             832\n",
            "             PReLU-2          [-1, 32, 60, 153]               1\n",
            "         MaxPool2d-3           [-1, 32, 30, 76]               0\n",
            "            Conv2d-4           [-1, 64, 26, 72]          51,264\n",
            "             PReLU-5           [-1, 64, 26, 72]               1\n",
            "         MaxPool2d-6           [-1, 64, 13, 36]               0\n",
            "            Conv2d-7           [-1, 128, 9, 32]         204,928\n",
            "             PReLU-8           [-1, 128, 9, 32]               1\n",
            "         MaxPool2d-9           [-1, 128, 4, 16]               0\n",
            "           Linear-10                  [-1, 128]       1,048,704\n",
            "            PReLU-11                  [-1, 128]               1\n",
            "           Linear-12                  [-1, 256]          33,024\n",
            "            PReLU-13                  [-1, 256]               1\n",
            "           Linear-14                  [-1, 128]          32,896\n",
            "================================================================\n",
            "Total params: 1,371,653\n",
            "Trainable params: 1,371,653\n",
            "Non-trainable params: 0\n",
            "----------------------------------------------------------------\n",
            "Input size (MB): 0.04\n",
            "Forward/backward pass size (MB): 7.73\n",
            "Params size (MB): 5.23\n",
            "Estimated Total Size (MB): 13.00\n",
            "----------------------------------------------------------------\n"
          ]
        }
      ],
      "source": [
        "from torchsummary import summary\n",
        "model = EmbeddingNet()\n",
        "summary(model, (1, 64, 157))"
      ]
    },
    {
      "attachments": {},
      "cell_type": "markdown",
      "metadata": {
        "id": "gHLOuoFgeuSs"
      },
      "source": [
        "# Training"
      ]
    },
    {
      "cell_type": "code",
      "execution_count": 21,
      "metadata": {
        "id": "16p2X9cx36W-"
      },
      "outputs": [],
      "source": [
        "import torch\n",
        "import numpy as np\n",
        "from tqdm import tqdm\n",
        "\n",
        "\n",
        "def fit(train_loader, val_loader, model, loss_fn, optimizer, scheduler, n_epochs, cuda, log_interval, metrics=[],\n",
        "        start_epoch=0):\n",
        "    \"\"\"\n",
        "    Loaders, model, loss function and metrics should work together for a given task,\n",
        "    i.e. The model should be able to process data output of loaders,\n",
        "    loss function should process target output of loaders and outputs from the model\n",
        "\n",
        "    Examples: Classification: batch loader, classification model, NLL loss, accuracy metric\n",
        "    Siamese network: Siamese loader, siamese model, contrastive loss\n",
        "    Online triplet learning: batch loader, embedding model, online triplet loss\n",
        "    \"\"\"\n",
        "    for epoch in range(0, start_epoch):\n",
        "        scheduler.step()\n",
        "\n",
        "    for epoch in range(start_epoch, n_epochs):\n",
        "        scheduler.step()\n",
        "        pbar = tqdm(total=1)\n",
        "        # Train stage\n",
        "        train_loss, metrics = train_epoch(train_loader, model, loss_fn, optimizer, cuda, log_interval, metrics)\n",
        "\n",
        "        message = 'Epoch: {}/{}. Train set: Average loss: {:.4f}'.format(epoch + 1, n_epochs, train_loss)\n",
        "        for metric in metrics:\n",
        "            message += '\\t{}: {}'.format(metric.name(), metric.value())\n",
        "\n",
        "        val_loss, metrics = test_epoch(val_loader, model, loss_fn, cuda, metrics)\n",
        "        val_loss /= len(val_loader)\n",
        "\n",
        "        message += '\\nEpoch: {}/{}. Validation set: Average loss: {:.4f}'.format(epoch + 1, n_epochs,\n",
        "                                                                                 val_loss)\n",
        "        for metric in metrics:\n",
        "            message += '\\t{}: {}'.format(metric.name(), metric.value())\n",
        "        \n",
        "        # update progress bar\n",
        "        pbar.update(1)\n",
        "        pbar.set_description(f\"Epoch {epoch+1}/{n_epochs} train_loss={train_loss:.2f} val_loss={val_loss:.2f}\")\n",
        "        pbar.close()\n",
        "\n",
        "        # print(message)\n",
        "\n",
        "\n",
        "def train_epoch(train_loader, model, loss_fn, optimizer, cuda, log_interval, metrics):\n",
        "    for metric in metrics:\n",
        "        metric.reset()\n",
        "\n",
        "    model.train()\n",
        "    losses = []\n",
        "    total_loss = 0\n",
        "\n",
        "    batch_idx = 0\n",
        "    for batch_idx, (data, target) in enumerate(train_loader):\n",
        "        target = target if len(target) > 0 else None\n",
        "        if not type(data) in (tuple, list):\n",
        "            data = (data,)\n",
        "        if cuda:\n",
        "            data = tuple(d.cuda() for d in data)\n",
        "            if target is not None:\n",
        "                target = target.cuda()\n",
        "\n",
        "\n",
        "        optimizer.zero_grad()\n",
        "        outputs = model(*data)\n",
        "\n",
        "        if type(outputs) not in (tuple, list):\n",
        "            outputs = (outputs,)\n",
        "\n",
        "        loss_inputs = outputs\n",
        "        if target is not None:\n",
        "            target = (target,)\n",
        "            loss_inputs += target\n",
        "\n",
        "        loss_outputs = loss_fn(*loss_inputs)\n",
        "        loss = loss_outputs[0] if type(loss_outputs) in (tuple, list) else loss_outputs\n",
        "        losses.append(loss.item())\n",
        "        total_loss += loss.item()\n",
        "        loss.backward()\n",
        "        optimizer.step()\n",
        "\n",
        "        for metric in metrics:\n",
        "            metric(outputs, target, loss_outputs)\n",
        "\n",
        "        if batch_idx % log_interval == 0:\n",
        "            message = 'Train: [{}/{} ({:.0f}%)]\\tLoss: {:.6f}'.format(\n",
        "                batch_idx * len(data[0]), len(train_loader.dataset), # type: ignore\n",
        "                #! if batch size is smaller than defined then it may become smaller.\n",
        "                100. * batch_idx / len(train_loader), np.mean(losses))\n",
        "            for metric in metrics:\n",
        "                message += '\\t{}: {}'.format(metric.name(), metric.value())\n",
        "\n",
        "            print(message)\n",
        "            losses = []\n",
        "\n",
        "    total_loss /= (batch_idx + 1)\n",
        "    return total_loss, metrics\n",
        "\n",
        "\n",
        "def test_epoch(val_loader, model, loss_fn, cuda, metrics):\n",
        "    with torch.no_grad():\n",
        "        for metric in metrics:\n",
        "            metric.reset()\n",
        "        model.eval()\n",
        "        val_loss = 0\n",
        "        for batch_idx, (data, target) in enumerate(val_loader):\n",
        "            target = target if len(target) > 0 else None\n",
        "            if not type(data) in (tuple, list):\n",
        "                data = (data,)\n",
        "            if cuda:\n",
        "                data = tuple(d.cuda() for d in data)\n",
        "                if target is not None:\n",
        "                    target = target.cuda()\n",
        "\n",
        "            outputs = model(*data)\n",
        "\n",
        "            if type(outputs) not in (tuple, list):\n",
        "                outputs = (outputs,)\n",
        "            loss_inputs = outputs\n",
        "            if target is not None:\n",
        "                target = (target,)\n",
        "                loss_inputs += target\n",
        "\n",
        "            loss_outputs = loss_fn(*loss_inputs)\n",
        "            loss = loss_outputs[0] if type(loss_outputs) in (tuple, list) else loss_outputs\n",
        "            val_loss += loss.item()\n",
        "\n",
        "            for metric in metrics:\n",
        "                metric(outputs, target, loss_outputs)\n",
        "\n",
        "    return val_loss, metrics"
      ]
    },
    {
      "attachments": {},
      "cell_type": "markdown",
      "metadata": {
        "id": "hXlRgZha6UUy"
      },
      "source": [
        "# Loss functions"
      ]
    },
    {
      "cell_type": "code",
      "execution_count": 22,
      "metadata": {
        "id": "tKJFCNuD6XU5"
      },
      "outputs": [],
      "source": [
        "import torch\n",
        "import torch.nn as nn\n",
        "import torch.nn.functional as F\n",
        "\n",
        "\n",
        "class ContrastiveLoss(nn.Module):\n",
        "    \"\"\"\n",
        "    Contrastive loss\n",
        "    Takes embeddings of two samples and a target label == 1 if samples are from the same class and label == 0 otherwise\n",
        "    \"\"\"\n",
        "\n",
        "    def __init__(self, margin):\n",
        "        super(ContrastiveLoss, self).__init__()\n",
        "        self.margin = margin\n",
        "        self.eps = 1e-9\n",
        "\n",
        "    def forward(self, output1, output2, target, size_average=True):\n",
        "        distances = (output2 - output1).pow(2).sum(1)  # squared distances\n",
        "        losses = 0.5 * (target.float() * distances +\n",
        "                        (1 + -1 * target).float() * F.relu(self.margin - (distances + self.eps).sqrt()).pow(2))\n",
        "        return losses.mean() if size_average else losses.sum()\n",
        "\n",
        "\n",
        "class TripletLoss(nn.Module):\n",
        "    \"\"\"\n",
        "    Triplet loss\n",
        "    Takes embeddings of an anchor sample, a positive sample and a negative sample\n",
        "    \"\"\"\n",
        "\n",
        "    def __init__(self, margin):\n",
        "        super(TripletLoss, self).__init__()\n",
        "        self.margin = margin\n",
        "\n",
        "    def forward(self, anchor, positive, negative, size_average=True):\n",
        "        distance_positive = (anchor - positive).pow(2).sum(1)  # .pow(.5)\n",
        "        distance_negative = (anchor - negative).pow(2).sum(1)  # .pow(.5)\n",
        "        losses = F.relu(distance_positive - distance_negative + self.margin)\n",
        "        return losses.mean() if size_average else losses.sum()"
      ]
    },
    {
      "attachments": {},
      "cell_type": "markdown",
      "metadata": {
        "id": "F-OsKrILfXVA"
      },
      "source": [
        "# Main"
      ]
    },
    {
      "cell_type": "code",
      "execution_count": 23,
      "metadata": {
        "colab": {
          "base_uri": "https://localhost:8080/",
          "height": 696
        },
        "id": "yML7Q7YA2uA6",
        "outputId": "5f574539-e23d-4101-e477-8eb2a2c8ea88"
      },
      "outputs": [
        {
          "name": "stderr",
          "output_type": "stream",
          "text": [
            "/home/armak/anaconda3/lib/python3.9/site-packages/torch/optim/lr_scheduler.py:138: UserWarning: Detected call of `lr_scheduler.step()` before `optimizer.step()`. In PyTorch 1.1.0 and later, you should call them in the opposite order: `optimizer.step()` before `lr_scheduler.step()`.  Failure to do this will result in PyTorch skipping the first value of the learning rate schedule. See more details at https://pytorch.org/docs/stable/optim.html#how-to-adjust-learning-rate\n",
            "  warnings.warn(\"Detected call of `lr_scheduler.step()` before `optimizer.step()`. \"\n",
            "  0%|          | 0/1 [00:00<?, ?it/s]"
          ]
        },
        {
          "name": "stdout",
          "output_type": "stream",
          "text": [
            "Train: [0/1000 (0%)]\tLoss: 2083.989746\n",
            "Train: [128/1000 (14%)]\tLoss: 4755.961426\n",
            "Train: [256/1000 (29%)]\tLoss: 1667.810547\n",
            "Train: [384/1000 (43%)]\tLoss: 178.662827\n",
            "Train: [512/1000 (57%)]\tLoss: 1822.876221\n",
            "Train: [640/1000 (71%)]\tLoss: 2275.473145\n",
            "Train: [768/1000 (86%)]\tLoss: 877.841431\n"
          ]
        },
        {
          "ename": "ZeroDivisionError",
          "evalue": "division by zero",
          "output_type": "error",
          "traceback": [
            "\u001b[0;31m---------------------------------------------------------------------------\u001b[0m",
            "\u001b[0;31mZeroDivisionError\u001b[0m                         Traceback (most recent call last)",
            "\u001b[0;32m/tmp/ipykernel_1487/1607971396.py\u001b[0m in \u001b[0;36m<module>\u001b[0;34m\u001b[0m\n\u001b[1;32m     20\u001b[0m \u001b[0;34m\u001b[0m\u001b[0m\n\u001b[1;32m     21\u001b[0m \u001b[0;31m# train_epoch(triplet_train_loader, model, loss_fn, optimizer, cuda, log_interval, metrics=[])\u001b[0m\u001b[0;34m\u001b[0m\u001b[0;34m\u001b[0m\u001b[0m\n\u001b[0;32m---> 22\u001b[0;31m \u001b[0mfit\u001b[0m\u001b[0;34m(\u001b[0m\u001b[0mtriplet_train_loader\u001b[0m\u001b[0;34m,\u001b[0m \u001b[0mtriplet_test_loader\u001b[0m\u001b[0;34m,\u001b[0m \u001b[0mmodel\u001b[0m\u001b[0;34m,\u001b[0m \u001b[0mloss_fn\u001b[0m\u001b[0;34m,\u001b[0m \u001b[0moptimizer\u001b[0m\u001b[0;34m,\u001b[0m \u001b[0mscheduler\u001b[0m\u001b[0;34m,\u001b[0m \u001b[0mn_epochs\u001b[0m\u001b[0;34m,\u001b[0m \u001b[0mcuda\u001b[0m\u001b[0;34m,\u001b[0m \u001b[0mlog_interval\u001b[0m\u001b[0;34m)\u001b[0m\u001b[0;34m\u001b[0m\u001b[0;34m\u001b[0m\u001b[0m\n\u001b[0m",
            "\u001b[0;32m/tmp/ipykernel_1487/61958041.py\u001b[0m in \u001b[0;36mfit\u001b[0;34m(train_loader, val_loader, model, loss_fn, optimizer, scheduler, n_epochs, cuda, log_interval, metrics, start_epoch)\u001b[0m\n\u001b[1;32m     29\u001b[0m \u001b[0;34m\u001b[0m\u001b[0m\n\u001b[1;32m     30\u001b[0m         \u001b[0mval_loss\u001b[0m\u001b[0;34m,\u001b[0m \u001b[0mmetrics\u001b[0m \u001b[0;34m=\u001b[0m \u001b[0mtest_epoch\u001b[0m\u001b[0;34m(\u001b[0m\u001b[0mval_loader\u001b[0m\u001b[0;34m,\u001b[0m \u001b[0mmodel\u001b[0m\u001b[0;34m,\u001b[0m \u001b[0mloss_fn\u001b[0m\u001b[0;34m,\u001b[0m \u001b[0mcuda\u001b[0m\u001b[0;34m,\u001b[0m \u001b[0mmetrics\u001b[0m\u001b[0;34m)\u001b[0m\u001b[0;34m\u001b[0m\u001b[0;34m\u001b[0m\u001b[0m\n\u001b[0;32m---> 31\u001b[0;31m         \u001b[0mval_loss\u001b[0m \u001b[0;34m/=\u001b[0m \u001b[0mlen\u001b[0m\u001b[0;34m(\u001b[0m\u001b[0mval_loader\u001b[0m\u001b[0;34m)\u001b[0m\u001b[0;34m\u001b[0m\u001b[0;34m\u001b[0m\u001b[0m\n\u001b[0m\u001b[1;32m     32\u001b[0m \u001b[0;34m\u001b[0m\u001b[0m\n\u001b[1;32m     33\u001b[0m         message += '\\nEpoch: {}/{}. Validation set: Average loss: {:.4f}'.format(epoch + 1, n_epochs,\n",
            "\u001b[0;31mZeroDivisionError\u001b[0m: division by zero"
          ]
        }
      ],
      "source": [
        "triplet_train_dataset = TripletVoxCeleb1ID(train_subset) # Returns triplets of images\n",
        "triplet_test_dataset = TripletVoxCeleb1ID(test_subset)\n",
        "batch_size = 128\n",
        "kwargs = {'num_workers': 1, 'pin_memory': True} if cuda else {}\n",
        "triplet_train_loader = torch.utils.data.DataLoader(triplet_train_dataset, batch_size=batch_size, shuffle=True, drop_last=True, **kwargs) # type: ignore\n",
        "triplet_test_loader = torch.utils.data.DataLoader(triplet_test_dataset, batch_size=batch_size, shuffle=False, drop_last=True, **kwargs) # type: ignore\n",
        "\n",
        "# Set up the network and training parameters\n",
        "margin = 1.\n",
        "embedding_net = EmbeddingNet()\n",
        "model = TripletNet(embedding_net)\n",
        "if cuda:\n",
        "    model.cuda()\n",
        "loss_fn = TripletLoss(margin)\n",
        "lr = 1e-3\n",
        "optimizer = optim.Adam(model.parameters(), lr=lr)\n",
        "scheduler = lr_scheduler.StepLR(optimizer, 8, gamma=0.1, last_epoch=-1)\n",
        "n_epochs = 1\n",
        "log_interval = 1\n",
        "\n",
        "# train_epoch(triplet_train_loader, model, loss_fn, optimizer, cuda, log_interval, metrics=[])\n",
        "fit(triplet_train_loader, triplet_test_loader, model, loss_fn, optimizer, scheduler, n_epochs, cuda, log_interval)"
      ]
    },
    {
      "cell_type": "code",
      "execution_count": 24,
      "metadata": {},
      "outputs": [],
      "source": [
        "def plot_embeddings(embeddings, targets, xlim=None, ylim=None):\n",
        "    plt.figure(figsize=(10,10))\n",
        "    for i in range(10):\n",
        "        inds = np.where(targets==i)[0]\n",
        "        plt.scatter(embeddings[inds,0], embeddings[inds,1], alpha=0.5)\n",
        "    if xlim:\n",
        "        plt.xlim(xlim[0], xlim[1])\n",
        "    if ylim:\n",
        "        plt.ylim(ylim[0], ylim[1])\n",
        "    plt.legend(test_speakers_classes)\n",
        "\n",
        "def extract_embeddings(dataloader, model):\n",
        "    with torch.no_grad():\n",
        "        model.eval()\n",
        "        embeddings = np.zeros((len(dataloader.dataset), 128))\n",
        "        labels = np.zeros(len(dataloader.dataset))\n",
        "        k = 0\n",
        "        for images, target in dataloader:\n",
        "            if cuda:\n",
        "                images = images.cuda()\n",
        "            embeddings[k:k+len(images)] = model.get_embedding(images).data.cpu().numpy()\n",
        "            labels[k:k+len(images)] = target.numpy()\n",
        "            k += len(images)\n",
        "    return embeddings, labels"
      ]
    },
    {
      "cell_type": "code",
      "execution_count": 25,
      "metadata": {
        "id": "R84nXs7k3WgF"
      },
      "outputs": [],
      "source": [
        "train_subset_unified = VoxCeleb1IdentificationUnified(train_dataset, present_audio_files= present_train_audio_files)\n",
        "train_loader = torch.utils.data.DataLoader(train_subset_unified, batch_size=batch_size, shuffle=True, drop_last=True, **kwargs) # type: ignore\n",
        "\n",
        "test_subset_unified = VoxCeleb1IdentificationUnified(test_dataset, present_audio_files= present_test_audio_files)\n",
        "test_loader = torch.utils.data.DataLoader(test_subset_unified, batch_size=batch_size, shuffle=False, drop_last=True, **kwargs) # type: ignore\n",
        "\n",
        "train_embeddings_tl, train_labels_tl = extract_embeddings(train_loader, embedding_net)\n",
        "plot_embeddings(train_embeddings_tl, train_labels_tl)\n",
        "val_embeddings_tl, val_labels_tl = extract_embeddings(test_loader, embedding_net)\n",
        "plot_embeddings(val_embeddings_tl, val_labels_tl)"
      ]
    }
  ],
  "metadata": {
    "colab": {
      "provenance": []
    },
    "kernelspec": {
      "display_name": "Python 3",
      "name": "python3"
    },
    "language_info": {
      "codemirror_mode": {
        "name": "ipython",
        "version": 3
      },
      "file_extension": ".py",
      "mimetype": "text/x-python",
      "name": "python",
      "nbconvert_exporter": "python",
      "pygments_lexer": "ipython3",
      "version": "3.9.13"
    }
  },
  "nbformat": 4,
  "nbformat_minor": 0
}
